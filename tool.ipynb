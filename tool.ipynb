{
 "cells": [
  {
   "cell_type": "code",
   "execution_count": 8,
   "metadata": {},
   "outputs": [],
   "source": [
    "import pandas as pd\n",
    "import numpy as np \n",
    "import matplotlib.pyplot as plt\n",
    "import re\n",
    "from google.colab import files\n",
    "import sys, os\n",
    "import zipfile\n",
    "from zipfile import ZipFile"
   ]
  },
  {
   "cell_type": "code",
   "execution_count": 14,
   "metadata": {},
   "outputs": [],
   "source": [
    "def createData(n):\n",
    "  data=pd.read_csv(n)\n",
    "  orderQuestionTitle = pd.read_json('questionTitle.json')\n",
    "  orderQuestionArray = orderQuestionTitle.values.tolist()\n",
    "  # Rename ID of columns:\n",
    "  for i in data.columns:\n",
    "   if re.search(\"^Q9[a-z]*|^Q12[a-z]*|^Q13[a-z]*\", i):\n",
    "     for x in orderQuestionArray:\n",
    "       if i.split(\".\")[1].replace(\"_\",\" \").strip() in x[1].strip():\n",
    "         newCol = re.sub(i.split(\".\")[0], x[0], i )\n",
    "         data.rename(columns={i : newCol} , inplace=True )\n",
    "         break\n",
    "  # Restructure Columns\n",
    "  firstGroup = data.columns[0:14]\n",
    "  orderedQuestionNine = data.columns[14:23].sort_values()\n",
    "  secondGroup = data.columns[23:26]\n",
    "  orderedQuestionTwelve = data.columns[26:35].sort_values()\n",
    "  orderedQuestionThirteen = data.columns[35:46].sort_values()\n",
    "  thirdGroup = data.columns[46:]\n",
    "\n",
    "  newGroup = firstGroup.to_list() + orderedQuestionNine.to_list() + secondGroup.to_list() + orderedQuestionTwelve.to_list() + orderedQuestionThirteen.to_list() + thirdGroup.to_list()\n",
    "  data_second = data[newGroup]\n",
    "\n",
    "\n",
    "  # Write Files CSV:\n",
    "  with zf.open(n, \"w\") as buffer:\n",
    "    data_second.to_csv(buffer, encoding='utf-8', index=False)\n",
    " \n",
    "  #zipObj.write(initData)\n",
    "  #files.download(n)"
   ]
  },
  {
   "cell_type": "code",
   "execution_count": 2,
   "metadata": {},
   "outputs": [],
   "source": [
    "curDir = os.getcwd()\n",
    "filesDir = os.listdir(curDir)\n",
    "csvReg = \".(\\.csv)$\"\n",
    "csvFiles = filter(lambda x: re.search(csvReg,x),filesDir)\n",
    "with zipfile.ZipFile(\"DATA.zip\", \"w\") as zf:\n",
    "  for i in csvFiles:\n",
    "    createData(str(i))\n",
    "  "
   ]
  },
  {
   "cell_type": "code",
   "execution_count": null,
   "metadata": {},
   "outputs": [],
   "source": [
    "files.download('DATA.zip')"
   ]
  },
  {
   "cell_type": "code",
   "execution_count": null,
   "metadata": {},
   "outputs": [],
   "source": []
  }
 ],
 "metadata": {
  "kernelspec": {
   "display_name": "Python 3.10.8 64-bit (microsoft store)",
   "language": "python",
   "name": "python3"
  },
  "language_info": {
   "codemirror_mode": {
    "name": "ipython",
    "version": 3
   },
   "file_extension": ".py",
   "mimetype": "text/x-python",
   "name": "python",
   "nbconvert_exporter": "python",
   "pygments_lexer": "ipython3",
   "version": "3.10.8"
  },
  "orig_nbformat": 4,
  "vscode": {
   "interpreter": {
    "hash": "f12fa5512efcd19ca575c8285a052383d04af681f7509aa6cd7d4b7f7197f30d"
   }
  }
 },
 "nbformat": 4,
 "nbformat_minor": 2
}
